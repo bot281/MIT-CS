{
 "cells": [
  {
   "cell_type": "markdown",
   "id": "779d6e53",
   "metadata": {},
   "source": [
    "# Lecture 18: More Python Class Methods"
   ]
  },
  {
   "cell_type": "markdown",
   "id": "4af1a02a",
   "metadata": {},
   "source": [
    "## You Try It!\n",
    "Add code to init method to check...\n",
    "\n",
    "1) type of center is Coordinate obj\n",
    "2) type of radius is an int\n",
    "3) If either are not these types, raise ValueError\n"
   ]
  },
  {
   "cell_type": "code",
   "execution_count": 24,
   "id": "e67cda7a",
   "metadata": {},
   "outputs": [],
   "source": [
    "class Coordinate(object):\n",
    "    \"\"\"A coordinate made up of an x and y value\"\"\"\n",
    "    def __init__ (self, x, y):\n",
    "        \"\"\"sets x and y values\"\"\"\n",
    "        self.x = x\n",
    "        self.y = y"
   ]
  },
  {
   "cell_type": "code",
   "execution_count": 25,
   "id": "bb52e1a3",
   "metadata": {},
   "outputs": [],
   "source": [
    "class Circle(object):\n",
    "    def __init__(self, center, radius):\n",
    "        if type(center) != Coordinate:\n",
    "            raise ValueError\n",
    "        if type(radius) != int:\n",
    "            raise ValueError\n",
    "        self.center = center\n",
    "        self.radius = radius"
   ]
  },
  {
   "cell_type": "code",
   "execution_count": 26,
   "id": "0cce720a",
   "metadata": {},
   "outputs": [],
   "source": [
    "center = Coordinate(2,2)\n",
    "my_circle = Circle(center, 2)"
   ]
  },
  {
   "cell_type": "code",
   "execution_count": 29,
   "id": "c7bee3fc",
   "metadata": {},
   "outputs": [],
   "source": [
    "# my_circle = Circle(2,2) # raises ValueError\n",
    "# my_circle = Circle(center, 'two')   # raises ValueError"
   ]
  },
  {
   "cell_type": "markdown",
   "id": "01e20319",
   "metadata": {},
   "source": [
    "Timestamps\n",
    "24:00\n",
    "25:00 yti (you try it)\n",
    "28:00 fractions\n",
    "29:54 instances for fraction\n",
    "32:00 multiply fractions\n",
    "33:00 add fractions\n",
    "33:42 trying out previous methods\n",
    "36:00 yti\n",
    "40:53 more examples of methods\n",
    "43:34 dunder method - special operators\n",
    "46:00 printing own data types\n",
    "51:42 interface - methods - how to interact\n",
    "52:00 example of fraction instance\n",
    "54:45 yti\n",
    "56:43 comparing method vs dunder method\n",
    "1:01:18 classes hide detail - abstraction\n",
    "1:03:49 big idea - special operations = methods\n",
    "1:04:56 cast to float to keep both options (what options?)\n",
    "1:08:06 add a method\n",
    "1:11:16 improvement on Fraction class\n",
    "1:12:43 types become different \n",
    "1:12:56 yti\n",
    "1:14:47 oop and bundling to organize code, modularize"
   ]
  }
 ],
 "metadata": {
  "kernelspec": {
   "display_name": "Python 3",
   "language": "python",
   "name": "python3"
  },
  "language_info": {
   "codemirror_mode": {
    "name": "ipython",
    "version": 3
   },
   "file_extension": ".py",
   "mimetype": "text/x-python",
   "name": "python",
   "nbconvert_exporter": "python",
   "pygments_lexer": "ipython3",
   "version": "3.9.5"
  }
 },
 "nbformat": 4,
 "nbformat_minor": 5
}
