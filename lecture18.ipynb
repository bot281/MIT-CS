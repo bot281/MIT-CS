{
 "cells": [
  {
   "cell_type": "markdown",
   "id": "779d6e53",
   "metadata": {},
   "source": [
    "# Lecture 18: More Python Class Methods\n",
    "\n",
    "## test\n",
    "This is a test to see how things work"
   ]
  },
  {
   "cell_type": "code",
   "execution_count": 14,
   "id": "bb52e1a3",
   "metadata": {},
   "outputs": [],
   "source": [
    "a = 1234"
   ]
  },
  {
   "cell_type": "markdown",
   "id": "a4fd9a99",
   "metadata": {},
   "source": [
    "Now to print it"
   ]
  },
  {
   "cell_type": "code",
   "execution_count": 15,
   "id": "4a3ab5df",
   "metadata": {},
   "outputs": [
    {
     "name": "stdout",
     "output_type": "stream",
     "text": [
      "1234\n"
     ]
    }
   ],
   "source": [
    "print(a)"
   ]
  },
  {
   "cell_type": "markdown",
   "id": "4727e51a",
   "metadata": {},
   "source": [
    "![](image.png)"
   ]
  }
 ],
 "metadata": {
  "kernelspec": {
   "display_name": "Python 3",
   "language": "python",
   "name": "python3"
  },
  "language_info": {
   "codemirror_mode": {
    "name": "ipython",
    "version": 3
   },
   "file_extension": ".py",
   "mimetype": "text/x-python",
   "name": "python",
   "nbconvert_exporter": "python",
   "pygments_lexer": "ipython3",
   "version": "3.9.5"
  }
 },
 "nbformat": 4,
 "nbformat_minor": 5
}
