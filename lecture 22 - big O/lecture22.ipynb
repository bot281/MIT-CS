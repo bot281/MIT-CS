{
 "cells": [
  {
   "cell_type": "markdown",
   "id": "84f1d2ed",
   "metadata": {},
   "source": [
    "### lecture 22 - big O and theta\n"
   ]
  }
 ],
 "metadata": {
  "language_info": {
   "name": "python"
  }
 },
 "nbformat": 4,
 "nbformat_minor": 5
}
