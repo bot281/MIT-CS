{
 "cells": [
  {
   "cell_type": "markdown",
   "id": "84f1d2ed",
   "metadata": {},
   "source": [
    "### lecture 22 - big O and theta\n",
    "* timing a program\n",
    "    * use time module\n",
    "    * import is bringing collection of functions into current file\n",
    "    * start clock, call funct, stop clock"
   ]
  },
  {
   "cell_type": "code",
   "execution_count": 15,
   "id": "73104bd6",
   "metadata": {},
   "outputs": [
    {
     "name": "stdout",
     "output_type": "stream",
     "text": [
      "t = 3.5200006095692515e-05 sec\n"
     ]
    }
   ],
   "source": [
    "# performance counter is more accurate, more meaningful when getting a time difference\n",
    "import time\n",
    "\n",
    "def convert_to_km(mi):\n",
    "    return mi * 1.609\n",
    "\n",
    "t0 = time.perf_counter()\n",
    "convert_to_km(100000)\n",
    "dt = time.perf_counter() - t0\n",
    "\n",
    "print(f\"t = {dt} sec\")\n",
    "# notice how the time value changes every time it's run"
   ]
  },
  {
   "cell_type": "markdown",
   "id": "8da1fd14",
   "metadata": {},
   "source": [
    "example: convert_to_km, compound\n",
    "* questions to consider:\n",
    "    * how long does it take to compute?\n",
    "    * does time depend on input params?\n",
    "    * are times noticeably different for two functions?"
   ]
  },
  {
   "cell_type": "code",
   "execution_count": 16,
   "id": "588fa4eb",
   "metadata": {},
   "outputs": [],
   "source": [
    "def compound(invest, interest, n_months):\n",
    "    total = 0\n",
    "    for i in range(n_months):\n",
    "        total = total * interest + invest\n",
    "    return total"
   ]
  },
  {
   "cell_type": "code",
   "execution_count": 21,
   "id": "bde88b1a",
   "metadata": {},
   "outputs": [
    {
     "name": "stdout",
     "output_type": "stream",
     "text": [
      "convert_to_km(1) took 2.0999868866056204e-06 seconds (476193.4497678609/sec)\n",
      "convert_to_km(10) took 1.200009137392044e-06 seconds (833326.9879705083/sec)\n",
      "convert_to_km(100) took 5.00003807246685e-07 seconds (1999984.77112922/sec)\n",
      "convert_to_km(1000) took 5.00003807246685e-07 seconds (1999984.77112922/sec)\n",
      "convert_to_km(10000) took 2.999731805175543e-07 seconds (3333631.354225284/sec)\n",
      "convert_to_km(100000) took 2.00001522898674e-07 seconds (4999961.92782305/sec)\n",
      "convert_to_km(1000000) took 3.00002284348011e-07 seconds (3333307.951882033/sec)\n",
      "convert_to_km(10000000) took 3.999739419668913e-07 seconds (2500162.873317325/sec)\n"
     ]
    }
   ],
   "source": [
    "L_N = [1]\n",
    "for i in range(7):\n",
    "    L_N.append(L_N[-1]*10)\n",
    "\n",
    "for N in L_N:\n",
    "    t = time.perf_counter()\n",
    "    km = convert_to_km(N)\n",
    "    dt = time.perf_counter() - t\n",
    "    print(f\"convert_to_km({N}) took {dt} seconds ({1/dt}/sec)\")"
   ]
  },
  {
   "cell_type": "markdown",
   "id": "20951b1c",
   "metadata": {},
   "source": [
    "* (1/dt) / sec is just seeing how many times the program ran in 1 second"
   ]
  },
  {
   "cell_type": "markdown",
   "id": "89dda58b",
   "metadata": {},
   "source": [
    "* Observation 1\n",
    "    * time grows with input only when n_month changes\n",
    "* Observation 2\n",
    "    * avg time increase by 10 as size of arg increase by 10\n",
    "* Observation 3\n",
    "    * relationship between size and time only predictable for large sizes"
   ]
  },
  {
   "cell_type": "code",
   "execution_count": 22,
   "id": "c7af5176",
   "metadata": {},
   "outputs": [
    {
     "name": "stdout",
     "output_type": "stream",
     "text": [
      "sum_of(1) took 2.500019036233425e-06 seconds (399996.954225844/sec)\n",
      "sum_of(10) took 2.100015990436077e-06 seconds (476186.8502688619/sec)\n",
      "sum_of(100) took 4.5000051613897085e-06 seconds (222221.96733907217/sec)\n",
      "sum_of(1000) took 3.91000066883862e-05 seconds (25575.44319543628/sec)\n",
      "sum_of(10000) took 0.0003671000013127923 seconds (2724.0533817049404/sec)\n",
      "sum_of(100000) took 0.005891200009500608 seconds (169.74470369149276/sec)\n",
      "sum_of(1000000) took 0.03862680000020191 seconds (25.88876117086512/sec)\n",
      "sum_of(10000000) took 0.31599459997960366 seconds (3.1646110410258483/sec)\n"
     ]
    }
   ],
   "source": [
    "# measure time: sum over L\n",
    "def sum_of(L):\n",
    "    total = 0.0\n",
    "    for elt in L:\n",
    "        total = total + elt\n",
    "    return total\n",
    "\n",
    "L_N = [1]\n",
    "for i in range(7):\n",
    "    L_N.append(L_N[-1]*10)\n",
    "\n",
    "for N in L_N:\n",
    "    L = list(range(N))\n",
    "    t = time.perf_counter()\n",
    "    s = sum_of(L)\n",
    "    dt = time.perf_counter() - t\n",
    "    print(f\"sum_of({N}) took {dt} seconds ({1/dt}/sec)\")"
   ]
  },
  {
   "cell_type": "markdown",
   "id": "736dae15",
   "metadata": {},
   "source": [
    "* in Python, it is generally better to run something that is already made than make it oneself\n",
    "\n",
    "\n",
    "#### in the following for Count Operations\n",
    "* steps take constant time\n",
    "* uses: \n",
    "    * math operations\n",
    "    * comparisons\n",
    "    * assignments\n",
    "    * access objects in memory\n",
    "* count number of operations executed as funct of size input"
   ]
  },
  {
   "cell_type": "code",
   "execution_count": 23,
   "id": "b7e27cd4",
   "metadata": {},
   "outputs": [],
   "source": [
    "# 2 operations\n",
    "def convert_to_km(mi):\n",
    "    return mi * 1.609\n",
    "\n",
    "# 1 + len(L) * 3 + 1 = 3 * len(L) + 2 ops\n",
    "def sum_of(L):\n",
    "    total = 0\n",
    "    for i in L:\n",
    "        total += i\n",
    "    return total"
   ]
  },
  {
   "cell_type": "markdown",
   "id": "e3146d7b",
   "metadata": {},
   "source": [
    "### never use global variabes except in testing situation"
   ]
  },
  {
   "cell_type": "code",
   "execution_count": 25,
   "id": "6a88a102",
   "metadata": {},
   "outputs": [],
   "source": [
    "def is_in_counter(L, x):\n",
    "\n",
    "    for elt in L: # elt = element?\n",
    "\n",
    "        if elt == x:\n",
    "            return True\n",
    "    return False"
   ]
  },
  {
   "cell_type": "code",
   "execution_count": 26,
   "id": "bf3a774a",
   "metadata": {},
   "outputs": [],
   "source": [
    "def is_in_counter(L, x):\n",
    "    global count\n",
    "    count += 1\n",
    "    for elt in L:\n",
    "        count += 2\n",
    "        if elt == x:\n",
    "            return True\n",
    "    return False"
   ]
  },
  {
   "cell_type": "markdown",
   "id": "4536a11f",
   "metadata": {},
   "source": [
    "* global allows referencing and changing external variable inside funct\n",
    "    * which is OK for debugging and timing\n",
    "* global is __not__ good practice in real programs"
   ]
  },
  {
   "cell_type": "code",
   "execution_count": null,
   "id": "16959a2a",
   "metadata": {},
   "outputs": [],
   "source": [
    "# count operation: Binary Search\n",
    "def binary_search_counter(L, x):\n",
    "    global count\n",
    "    lo = 0\n",
    "    hi = len(L)\n",
    "    count += 3 # LO, HI, LEN\n",
    "    while hi-lo > 1:\n",
    "        count += 2 # WHILE, SUBTRACTION\n",
    "        mid = (hi+lo) // 2 # round down\n",
    "        count += 3 # ADD, //, ASSIGN MIDDLE\n",
    "        if L[mid] <= x:\n",
    "            lo = mid\n",
    "        else:\n",
    "            hi = mid\n",
    "        count += 3 # ACCESS MID, IF, ASSIGN MID\n",
    "    count += 3 # ACCESS LO, ==, RETURN\n",
    "    return L[lo] == x"
   ]
  }
 ],
 "metadata": {
  "kernelspec": {
   "display_name": "Python 3",
   "language": "python",
   "name": "python3"
  },
  "language_info": {
   "codemirror_mode": {
    "name": "ipython",
    "version": 3
   },
   "file_extension": ".py",
   "mimetype": "text/x-python",
   "name": "python",
   "nbconvert_exporter": "python",
   "pygments_lexer": "ipython3",
   "version": "3.13.4"
  }
 },
 "nbformat": 4,
 "nbformat_minor": 5
}
