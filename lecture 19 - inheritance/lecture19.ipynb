{
 "cells": [
  {
   "cell_type": "markdown",
   "id": "1d0b61db",
   "metadata": {},
   "source": [
    "# Lecture 19: Inheritance"
   ]
  },
  {
   "cell_type": "markdown",
   "id": "0454a5dc",
   "metadata": {},
   "source": [
    "___\n",
    "### Method of study\n",
    "Phase 1. 7x speed, catch timestamps, add topic/ideas\n",
    "\n",
    "Phase 2. Rewatch up to 2x speed, take quick but detailed notes, do exercises as presented\n",
    "\n",
    "Phase 3. Review all within 6 hours or early next day\n",
    "\n",
    "___"
   ]
  },
  {
   "cell_type": "markdown",
   "id": "ed4eb9de",
   "metadata": {},
   "source": [
    "#### Timestamps:\n",
    "* 0:00 reason to use OOP and classes of objects (cute animsl)\n",
    "* 2:46 recap of how to do it\n",
    "* 4:30 template of class\n",
    "* 8:12 getter and setter (used outside class to access data attributes)\n",
    "* 11:00 demonstration \n",
    "* 13:00 instance and dot notation\n",
    "* 14:25 information hiding\n",
    "* 15:15 changing internal representation (repr)\n",
    "* 16:45 python sucks at info hiding - what not to do\n",
    "* 22:00 python not know to print recursively\n",
    "* 25:14 yti (you try it)\n",
    "* 32:46 big idea - access data attributes thru methods - better style\n",
    "* 33:00 hierarchies - animal <-- person, cat rabbit\n",
    "* 36:46 example of code like parent, child\n",
    "* 38:00 inheritance subclass\n",
    "* 43:30 what method to use? - animal name example\n",
    "* 49:00 a bunch of methods to add to animal class\n",
    "* 51:15 yti\n",
    "* 55:55 big idea - how subclass use attributes (parents or not)\n",
    "* 56:36 code example of subclass working with attributes\n",
    "* 1:08:11 work with own types (Rabbit class)\n",
    "* 1:12:00 special methods to work with Rabbit\n",
    "* 1:16:09 big idea - class variables shared between all instances (if one change, all do)\n",
    "* 1:61:21 OOP summary of what it's good for"
   ]
  }
 ],
 "metadata": {
  "language_info": {
   "name": "python"
  }
 },
 "nbformat": 4,
 "nbformat_minor": 5
}
