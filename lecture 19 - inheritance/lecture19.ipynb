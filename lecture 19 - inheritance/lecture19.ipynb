{
 "cells": [
  {
   "cell_type": "markdown",
   "id": "1d0b61db",
   "metadata": {},
   "source": [
    "# Lecture 19: Inheritance"
   ]
  },
  {
   "cell_type": "markdown",
   "id": "0454a5dc",
   "metadata": {},
   "source": [
    "___\n",
    "### Method of study\n",
    "Phase 1. 7x speed, catch timestamps, add topic/ideas\n",
    "\n",
    "Phase 2. Rewatch up to 2x speed, take quick but detailed notes, do exercises as presented\n",
    "\n",
    "Phase 3. Review all within 6 hours or early next day\n",
    "\n",
    "___"
   ]
  },
  {
   "cell_type": "markdown",
   "id": "ed4eb9de",
   "metadata": {},
   "source": [
    "#### Timestamps:\n",
    "* 0:00 reason to use OOP and classes of objects (cute animsl)\n",
    "* 2:46 recap of how to do it\n",
    "* 4:30 template of class\n",
    "* 8:12 getter and setter (used outside class to access data attributes)\n",
    "* 11:00 demonstration \n",
    "* 13:00 instance and dot notation\n",
    "* 14:25 information hiding\n",
    "* 15:15 changing internal representation (repr)\n",
    "* 16:45 python sucks at info hiding - what not to do\n",
    "* 22:00 python not know to print recursively\n",
    "* 25:14 yti (you try it)\n",
    "* 32:46 big idea - access data attributes thru methods - better style\n",
    "* 33:00 hierarchies - animal <-- person, cat rabbit\n",
    "* 36:46 example of code like parent, child\n",
    "* 38:00 inheritance subclass\n",
    "* 43:30 what method to use? - animal name example\n",
    "* 49:00 a bunch of methods to add to animal class\n",
    "* 51:15 yti\n",
    "* 55:55 big idea - how subclass use attributes (parents or not)\n",
    "* 56:36 code example of subclass working with attributes\n",
    "* 1:08:11 work with own types (Rabbit class)\n",
    "* 1:12:00 special methods to work with Rabbit\n",
    "* 1:16:09 big idea - class variables shared between all instances (if one change, all do)\n",
    "* 1:16:21 OOP summary of what it's good for"
   ]
  },
  {
   "cell_type": "markdown",
   "id": "d1970893",
   "metadata": {},
   "source": [
    "\"today is lecture 3/4 of object oriented programming\"\n",
    "\n",
    "0:00 inheritance\n",
    "* recap first\n",
    "* what's the purpose of oop? what's the purpose of classes with objects?\n",
    "    * mimics real life\n",
    "    * different objects can be grouped, and be part of the same type\n",
    "    * <img src=\"kittens.png\" width=\"400\">\n",
    "    * just like how kittens have different names, features (similar/different)\n",
    "* all instances of a type have same data abstraction and behaviors\n",
    "    * kittens and bunnies are different animals, yet they still belong to **class Animals**\n",
    "* groups of objects have attributes - recap info\n",
    "    * for example:\n",
    "    * coordinate: x, y values\n",
    "    * animal: age\n",
    "* how does someone interact with the object?\n",
    "    * through methods (which affect behavior or operations) = procedural attributes\n",
    "    * for example from aboveL\n",
    "    * coordinate: get distance between both x and y\n",
    "    * animal: how long the animal has lived\n",
    "* template for defining a class\n",
    "```py\n",
    "class Animal(object):   # class definition, name, class parent (--> in order -->)\n",
    "    def __init__(self, age):    # dunder init is special method to create instance, \n",
    "                                # self is variable to talk about an object without having creating it yet\n",
    "                                # age is data to initialize Animal type\n",
    "        self.age = age\n",
    "        self.name = None    # not everything has to be passed into parameter list, so this is optional, but still a data attribute\n",
    "                            # later for the purpose of giving name to animal with a method\n",
    "myanimal = Animal(3)    # one instance that maps 3 to self.age in class definition\n",
    "```"
   ]
  },
  {
   "cell_type": "markdown",
   "id": "4e059874",
   "metadata": {},
   "source": [
    "8:00 getter and setter\n",
    "* use outside of class to access data attributes\n",
    "* the point of dunder str method is not just printing something exactly, but modify how it prints"
   ]
  },
  {
   "cell_type": "code",
   "execution_count": 15,
   "id": "e9e20595",
   "metadata": {},
   "outputs": [],
   "source": [
    "class Animal(object):\n",
    "    def __init__(self, age):\n",
    "        self.age = age\n",
    "        self.name = None\n",
    "    def __str__(self):  # <----- default print statement overridden\n",
    "        return \"animal:\" + str(self.name) + \":\" + str(self.age) # print has become different\n",
    "    # getters\n",
    "    def get_age(self):\n",
    "        return self.age\n",
    "    def get_name(self):\n",
    "        return self.name\n",
    "    # setters\n",
    "    def set_age(self, newage):\n",
    "        self.age = newage\n",
    "    def set_name(self, newname=\"\"): # if there's no initial value inputted, empty string is default value\n",
    "        self.name = newname"
   ]
  },
  {
   "cell_type": "markdown",
   "id": "17749e66",
   "metadata": {},
   "source": [
    "* what are getters?\n",
    "    * returns the values of data attribute an object has\n",
    "    * just returns stuff"
   ]
  },
  {
   "cell_type": "markdown",
   "id": "9f8bc743",
   "metadata": {},
   "source": [
    "* what are setters?\n",
    "    * change data atrributes to whatever"
   ]
  },
  {
   "cell_type": "markdown",
   "id": "21f81b00",
   "metadata": {},
   "source": [
    "* Below are examples of how they're used"
   ]
  },
  {
   "cell_type": "code",
   "execution_count": null,
   "id": "2389af89",
   "metadata": {},
   "outputs": [
    {
     "name": "stdout",
     "output_type": "stream",
     "text": [
      "animal:None:4\n",
      "4\n",
      "4\n",
      "None\n"
     ]
    }
   ],
   "source": [
    "a = Animal(4)\n",
    "print(a)            # print statement prints name because of how it's returned\n",
    "print(a.age)\n",
    "print(a.get_age())\n",
    "print(a.get_name()) # None because we didn't set name, and defaults to None"
   ]
  },
  {
   "cell_type": "code",
   "execution_count": 17,
   "id": "4b63b22d",
   "metadata": {},
   "outputs": [
    {
     "name": "stdout",
     "output_type": "stream",
     "text": [
      "animal:floofyfluff:4\n",
      "floofyfluff\n"
     ]
    }
   ],
   "source": [
    "# Setting a name then getting it\n",
    "a.set_name(\"floofyfluff\")\n",
    "print(a)\n",
    "print(a.get_name())"
   ]
  },
  {
   "cell_type": "code",
   "execution_count": 19,
   "id": "6a78aa11",
   "metadata": {},
   "outputs": [
    {
     "name": "stdout",
     "output_type": "stream",
     "text": [
      "animal::4\n"
     ]
    }
   ],
   "source": [
    "a.set_name()    # sets it to empty string, but not None\n",
    "print(a)"
   ]
  },
  {
   "cell_type": "markdown",
   "id": "79808d0d",
   "metadata": {},
   "source": [
    "12:50 instance and dot notation\n",
    "* instance of an object\n",
    "```py\n",
    "a = Animal(3)   # called Instantiation\n",
    "```\n",
    "* dot notation accesses attributes like data and methods\n",
    "    * but getters and setters are better to use\n",
    "    * a.age VS a.get_age()\n",
    "\n",
    "14:25 information hiding\n",
    "* in the case author of class blueprint changes data attribute variable names\n",
    "```py\n",
    "class Animal(object):\n",
    "    def __init__(self, age):\n",
    "        self.years = age    # instead of self.age = age, this is what got changed\n",
    "    def get_age(self):\n",
    "        return self.years   # next user doesn't have to guess or try to figure out what went wrong\n",
    "                            # if using a.age because it doesn't exist in black box\n",
    "```\n",
    "* thus, this style is good\n",
    "* easy to maintain code\n",
    "* prevents unnecessary bugs"
   ]
  },
  {
   "cell_type": "markdown",
   "id": "7f6c58df",
   "metadata": {},
   "source": [
    "16:44 python _suuuuuuucks_ at information hiding\n",
    "* why is it allowing people to access data with `print(a.age)`?\n",
    "* why is someone allowed to write to data from outside the class by doing `a.age  = 'infinity'`?\n",
    "* why can data attributes be created like `a.size = \"super smol\"`? (a.size doesn't exist btw)\n",
    "##### so do NOT do these outside of class definitions!! \n",
    "<img src=\"kuromi-angry.png\" width=125>"
   ]
  },
  {
   "cell_type": "markdown",
   "id": "9a385f0d",
   "metadata": {},
   "source": [
    "19:19 something new~ working with objects that we create\n",
    "* never really wrote nice functions that work with objects of our type\n",
    "```py\n",
    "def animal_dict(L):\n",
    "    \"\"\" L is a list\n",
    "    Returns a dict d, maps int to Animal object.\n",
    "    Key in d is all non-negative ints n in L.\n",
    "    A value corresponding to key is Animal object with n as its age.\"\"\"\n",
    "    d = {}\n",
    "    for n in L:\n",
    "        if type(n) == int and n >= 0:\n",
    "            d[n] = Animal(n)\n",
    "    return d\n",
    "\n",
    "    L = [2,5,'a',-5,0]  # get 2, 5, 0 and ignore everything else\n",
    "                        # becomes keys, map to animal objects like Animal(2)\n",
    "\n",
    "animals = animal_dict(L)\n",
    "print(animals)\n",
    "```\n",
    "<img src=\"top-level-dict-print.png\" height=70>\n",
    "\n",
    "* made a mistake leaving little white box in picture, but it's not important\n",
    "* print isn't recursively printing through the dictionary, which is why this is happening\n",
    "* so the solution is to have a loop:\n",
    "```py\n",
    "animals = animal_dict(L)\n",
    "for n,a in animals.items(): # manually loops over animal objects,\n",
    "                            # access data attributes through getter\n",
    "    print(f'key {n} with val {a}')\n",
    "```\n",
    "<img src=\"working-recursive-dict-print.png\" height=70>\n",
    "\n",
    "25:13 yti\n",
    "* L1 = list of ints\n",
    "* L2 = list of str\n",
    "* len(L1) = len(L2)\n",
    "* creates list of Animals same length as L1 or L2\n",
    "* animal object at i index has age, name corresponding to same index in L1, L2, respectively"
   ]
  },
  {
   "cell_type": "code",
   "execution_count": 24,
   "id": "9a354de5",
   "metadata": {},
   "outputs": [
    {
     "name": "stdout",
     "output_type": "stream",
     "text": [
      "[<__main__.Animal object at 0x000002E9AC19F4F0>, <__main__.Animal object at 0x000002E9AAEB2DC0>, <__main__.Animal object at 0x000002E9AAEB2700>]\n",
      "animal:blobfish:2\n",
      "animal:crazyant:5\n",
      "animal:parafox:1\n"
     ]
    }
   ],
   "source": [
    "def make_animals(L1, L2):\n",
    "    if len(L1) != len(L2):\n",
    "        return None\n",
    "    new_list = []\n",
    "    i = 0\n",
    "    while i < len(L1):\n",
    "        a = Animal(L1[i])\n",
    "        a.set_name(L2[i])\n",
    "        i += 1\n",
    "        new_list.append(a)\n",
    "    return new_list\n",
    "\n",
    "# testcase\n",
    "L1 = [2,5,1]\n",
    "L2 = [\"blobfish\", \"crazyant\", \"parafox\"]\n",
    "animals = make_animals(L1, L2)\n",
    "print(animals)      # prints list of animal objects\n",
    "for i in animals:   # loop prints individual animals\n",
    "    print(i)"
   ]
  },
  {
   "cell_type": "markdown",
   "id": "2c869c4b",
   "metadata": {},
   "source": [
    "33:00 big idea\n",
    "* data attributes should be accessed through methods\n",
    "* like how above used a.set_name()\n",
    "\n",
    "33:30 hierarchies\n",
    "* animal = parent class (superclass)\n",
    "* person, cat, rabbit = child class (subclass)\n",
    "* ![](hierarchy-animal.png)\n",
    "* child class will:\n",
    "    * inherit all data and behavior from parent\n",
    "    * add more info\n",
    "    * add more behavior\n",
    "    * override behavior\n",
    "* example: student --> person subclass\n",
    "\n",
    "38:29 inheritance code of parent class"
   ]
  },
  {
   "cell_type": "code",
   "execution_count": 1,
   "id": "d6f1cf39",
   "metadata": {},
   "outputs": [],
   "source": [
    "class Animal(object):\n",
    "    def __init__(self, age):\n",
    "        self.age = age\n",
    "        self.name = None\n",
    "    def get_age(self):\n",
    "        return self.age\n",
    "    def get_name(self):\n",
    "        return self.name\n",
    "    def set_age(self, newage):\n",
    "        self.age = newage\n",
    "    def set_name(self, newname=\"\"):\n",
    "        self.name = newname\n",
    "    def __str__(self):\n",
    "        return \"animal:\" + str(self.name) + \":\" + str(self.age)"
   ]
  },
  {
   "cell_type": "code",
   "execution_count": 2,
   "id": "1287d23d",
   "metadata": {},
   "outputs": [],
   "source": [
    "class Cat(Animal):\n",
    "    def speak(self):\n",
    "        print(\"meow\")\n",
    "    def __str__(self):\n",
    "        return \"cat:\" + str(self.name) + \":\" + str(self.age)"
   ]
  },
  {
   "cell_type": "markdown",
   "id": "b923605f",
   "metadata": {},
   "source": [
    "* new functionality speak() added\n",
    "* new data type must have init method <-- not missing because Animal has it\n",
    "* Cat takes Animal as its data type\n",
    "* Cat can use Animal methods, but NOT other way around"
   ]
  },
  {
   "cell_type": "code",
   "execution_count": 4,
   "id": "f3c5d43d",
   "metadata": {},
   "outputs": [
    {
     "name": "stdout",
     "output_type": "stream",
     "text": [
      "cat:baba:5\n"
     ]
    }
   ],
   "source": [
    "c = Cat(5)\n",
    "c.set_name(\"baba\")\n",
    "print(c)"
   ]
  },
  {
   "cell_type": "code",
   "execution_count": 5,
   "id": "387a7fb9",
   "metadata": {},
   "outputs": [],
   "source": [
    "class Person(Animal):\n",
    "    def __init__(self, name, age):\n",
    "        Animal.__init__(self, age)\n",
    "        self.set_name(name)\n",
    "        self.friends = []\n",
    "    def get_friends(self):\n",
    "        return self.friends.copy()\n",
    "    def add_friend(self, fname):\n",
    "        if fname not in self.friends:\n",
    "            self.friends.append(fname)\n",
    "    def speak(self):\n",
    "        print(\"hello\")\n",
    "    def age_diff(self, other):\n",
    "        diff = self.age - other.age\n",
    "        print(abs(diff), \"year difference\")\n",
    "    def __str__(self):\n",
    "        return \"person:\" + str(self.name) + \":\" + str(self.age)\n",
    "        "
   ]
  },
  {
   "cell_type": "code",
   "execution_count": null,
   "id": "f11d4bf7",
   "metadata": {},
   "outputs": [
    {
     "name": "stdout",
     "output_type": "stream",
     "text": [
      "ana:furball\n",
      "james:fluffsphere\n"
     ]
    }
   ],
   "source": [
    "def make_pets(d):\n",
    "    \"\"\"\n",
    "    d is dict mapping a person to cat obj\n",
    "    print 'person_name:cat_name'\n",
    "    \"\"\"\n",
    "    for k,v in d.items():\n",
    "        print(f\"{k.get_name()}:{v.get_name()}\")\n",
    "\n",
    "p1 = Person(\"ana\", 86)\n",
    "p2 = Person(\"james\", 7)\n",
    "c1 = Cat(1)\n",
    "c1.set_name(\"furball\")\n",
    "c2 = Cat(1)\n",
    "c2.set_name(\"fluffsphere\")\n",
    "\n",
    "d = {p1:c1, p2:c2}\n",
    "make_pets(d)    # ana:furball\n",
    "                # james:fluffsphere\n"
   ]
  },
  {
   "cell_type": "markdown",
   "id": "a9fbc435",
   "metadata": {},
   "source": [
    "### big idea 55:51\n",
    "* subclass uses parent attributes\n",
    "* then overrides parent attributes\n",
    "* or introduce (define) new attributes"
   ]
  },
  {
   "cell_type": "code",
   "execution_count": 16,
   "id": "9de99d0e",
   "metadata": {},
   "outputs": [],
   "source": [
    "import random\n",
    "\n",
    "class Student(Person):\n",
    "    def __init__(self, name, age, major=None):\n",
    "        Person.__init__(self, name, age)\n",
    "        self.major = major\n",
    "\n",
    "    def change_major(self, major):\n",
    "        self.major = major\n",
    "\n",
    "    def speak(self):\n",
    "        r = random.random()\n",
    "        if r < 0.25:\n",
    "            print(\"i have homework\")\n",
    "        elif 0.25 <= r < 0.5:\n",
    "            print(\"i need sleep\")\n",
    "        elif 0.5 <= r < 0.75:\n",
    "            print(\"i should eat\")\n",
    "        else:\n",
    "            print(\"i'm still zooming\")\n",
    "\n",
    "    def __str__(self):\n",
    "        return \"student:\" + str(self.name) + \":\" + str(self.age) + \":\" + str(self.major)\n"
   ]
  },
  {
   "cell_type": "markdown",
   "id": "b6d786e7",
   "metadata": {},
   "source": [
    "### 1:00:55 rabbit subclass\n",
    "* can even make a counter for each time rabbit class gets created\n",
    "* this is also used to give unique id to each new instance"
   ]
  },
  {
   "cell_type": "code",
   "execution_count": null,
   "id": "ae484aaf",
   "metadata": {},
   "outputs": [],
   "source": [
    "class Rabbit(Animal):\n",
    "    tag = 1 # the counter\n",
    "    def __init__(self, age, parent1=None, parent2=None):\n",
    "        super().__init__(age) # super just calls current parent class so Animal doesn't get hardcoded\n",
    "                              # and notice that self is no longer called (because self runs background)\n",
    "        self.parent1 = parent1\n",
    "        self.parent2 = parent2\n",
    "        self.rid = Rabbit.tag   # probably Rabbit ID (rid)\n",
    "        Rabbit.tag += 1"
   ]
  }
 ],
 "metadata": {
  "kernelspec": {
   "display_name": "Python 3",
   "language": "python",
   "name": "python3"
  },
  "language_info": {
   "codemirror_mode": {
    "name": "ipython",
    "version": 3
   },
   "file_extension": ".py",
   "mimetype": "text/x-python",
   "name": "python",
   "nbconvert_exporter": "python",
   "pygments_lexer": "ipython3",
   "version": "3.9.5"
  }
 },
 "nbformat": 4,
 "nbformat_minor": 5
}
