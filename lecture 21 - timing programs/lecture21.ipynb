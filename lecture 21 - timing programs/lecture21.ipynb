{
 "cells": [
  {
   "cell_type": "markdown",
   "id": "0c6c8f16",
   "metadata": {},
   "source": [
    "### lecture 21 - timing programs, counting operations\n",
    "* topics will cover complexity, measuring efficiency, timing programs, counting operations\n",
    "\n",
    "* how to figure out whether programs written are efficient - and how so\n",
    "* time and space efficiency - trade off between two\n",
    "    * fibonacci recursive vs fiboncci memoization\n",
    "    very rarely good at both\n",
    "* problem implements in many different ways - only solve using handful of diff algorithms\n",
    "* separate choice of implementation from choice of more abstract algorithm\n",
    "\n",
    "\n",
    "### ways to evaluate program\n",
    "* measure with timer   <------\n",
    "* count operations     <------\n",
    "* order of growth - abstract notion\n",
    "\n",
    "### import modules\n",
    "* import time\n",
    "* import random\n",
    "* import dateutil\n",
    "* import math\n",
    "#\n",
    "* call function inside module using module's name and dot notation:\n",
    "    * math.sin(math.pi/2)\n"
   ]
  },
  {
   "cell_type": "markdown",
   "id": "a48ee6c1",
   "metadata": {},
   "source": []
  }
 ],
 "metadata": {
  "language_info": {
   "name": "python"
  }
 },
 "nbformat": 4,
 "nbformat_minor": 5
}
