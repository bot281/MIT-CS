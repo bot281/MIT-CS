{
 "cells": [
  {
   "cell_type": "markdown",
   "id": "0c6c8f16",
   "metadata": {},
   "source": [
    "### lecture 21 - timing programs, counting operations\n",
    "* topics will cover complexity, measuring efficiency, timing programs, counting operations\n",
    "\n",
    "* how to figure out whether programs written are efficient - and how so\n",
    "* time and space efficiency - trade off between two\n",
    "    * fibonacci recursive vs fiboncci memoization\n",
    "    very rarely good at both\n",
    "* problem implements in many different ways - only solve using handful of diff algorithms\n",
    "* separate choice of implementation from choice of more abstract algorithm\n",
    "\n",
    "\n",
    "### ways to evaluate program\n",
    "* measure with timer   <------\n",
    "* count operations     <------\n",
    "* order of growth - abstract notion\n",
    "\n",
    "### import modules\n",
    "* import time\n",
    "* import random\n",
    "* import dateutil\n",
    "* import math\n",
    "#\n",
    "* call function inside module using module's name and dot notation:\n",
    "    * math.sin(math.pi/2)"
   ]
  },
  {
   "cell_type": "markdown",
   "id": "a48ee6c1",
   "metadata": {},
   "source": [
    "### Simple way to time a program"
   ]
  },
  {
   "cell_type": "code",
   "execution_count": null,
   "id": "12a46e04",
   "metadata": {},
   "outputs": [],
   "source": [
    "import time\n",
    "\n",
    "def c_to_f(c): # celcius to fahrenheit\n",
    "    return c * 9.0/5 + 32"
   ]
  },
  {
   "cell_type": "code",
   "execution_count": null,
   "id": "0584fed8",
   "metadata": {},
   "outputs": [
    {
     "name": "stdout",
     "output_type": "stream",
     "text": [
      "6.771087646484375e-05 s, \n"
     ]
    }
   ],
   "source": [
    "tstart = time.time() # start clock <-- for some reason counts seconds since Jan 1, 1970\n",
    "c_to_f(13) # call function\n",
    "dt = time.time() - tstart # stop clock\n",
    "print(dt, \"s, \")"
   ]
  },
  {
   "cell_type": "markdown",
   "id": "f19f81df",
   "metadata": {},
   "source": [
    "### timing programs is inconsistent\n",
    "* goal: evaluate different algorithms\n",
    "* run time should vary between algos\n",
    "    * but __NOT__ for:\n",
    "        * implementations\n",
    "        * computers\n",
    "        * languages\n",
    "        * small inputs (predictable)\n"
   ]
  },
  {
   "cell_type": "markdown",
   "id": "47a60780",
   "metadata": {},
   "source": [
    "### operations, number of run count\n",
    "* program can be analyzed by seeing:\n",
    "    * number of operations\n",
    "    * how many times it runs\n",
    "* for example:\n",
    "    * <img src=\"mysum.png\" alt=\"counts operations and subsequent runs\" width=\"400\">\n",
    "* the code format looks like the following:"
   ]
  },
  {
   "cell_type": "code",
   "execution_count": 3,
   "id": "c18a265e",
   "metadata": {},
   "outputs": [],
   "source": [
    "# test"
   ]
  }
 ],
 "metadata": {
  "kernelspec": {
   "display_name": "Python 3",
   "language": "python",
   "name": "python3"
  },
  "language_info": {
   "codemirror_mode": {
    "name": "ipython",
    "version": 3
   },
   "file_extension": ".py",
   "mimetype": "text/x-python",
   "name": "python",
   "nbconvert_exporter": "python",
   "pygments_lexer": "ipython3",
   "version": "3.13.4"
  }
 },
 "nbformat": 4,
 "nbformat_minor": 5
}
