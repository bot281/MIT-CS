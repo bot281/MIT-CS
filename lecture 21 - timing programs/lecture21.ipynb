{
 "cells": [
  {
   "cell_type": "markdown",
   "id": "0c6c8f16",
   "metadata": {},
   "source": [
    "### lecture 21 - timing programs, counting operations\n",
    "* topics will cover complexity, measuring efficiency, timing programs, counting operations\n",
    "\n",
    "* how to figure out whether programs written are efficient - and how so\n",
    "* time and space efficiency - trade off between two\n",
    "    * fibonacci recursive vs fiboncci memoization\n",
    "    very rarely good at both\n",
    "* problem implements in many different ways - only solve using handful of diff algorithms\n",
    "* separate choice of implementation from choice of more abstract algorithm\n",
    "\n",
    "\n",
    "### ways to evaluate program\n",
    "* measure with timer   <------\n",
    "* count operations     <------\n",
    "* order of growth - abstract notion\n",
    "\n",
    "### import modules\n",
    "* import time\n",
    "* import random\n",
    "* import dateutil\n",
    "* import math\n",
    "#\n",
    "* call function inside module using module's name and dot notation:\n",
    "    * math.sin(math.pi/2)"
   ]
  },
  {
   "cell_type": "markdown",
   "id": "a48ee6c1",
   "metadata": {},
   "source": [
    "### Simple way to time a program"
   ]
  },
  {
   "cell_type": "code",
   "execution_count": null,
   "id": "12a46e04",
   "metadata": {},
   "outputs": [],
   "source": [
    "import time\n",
    "\n",
    "def c_to_f(c): # celcius to fahrenheit\n",
    "    return c * 9.0/5 + 32"
   ]
  },
  {
   "cell_type": "code",
   "execution_count": null,
   "id": "0584fed8",
   "metadata": {},
   "outputs": [
    {
     "name": "stdout",
     "output_type": "stream",
     "text": [
      "6.771087646484375e-05 s, \n"
     ]
    }
   ],
   "source": [
    "tstart = time.time() # start clock <-- for some reason counts seconds since Jan 1, 1970\n",
    "c_to_f(13) # call function\n",
    "dt = time.time() - tstart # stop clock\n",
    "print(dt, \"s, \")"
   ]
  },
  {
   "cell_type": "markdown",
   "id": "f19f81df",
   "metadata": {},
   "source": [
    "### timing programs is inconsistent\n",
    "* goal: evaluate different algorithms\n",
    "* run time should vary between algos\n",
    "    * but __NOT__ for:\n",
    "        * implementations\n",
    "        * computers\n",
    "        * languages\n",
    "        * small inputs (predictable)\n"
   ]
  },
  {
   "cell_type": "markdown",
   "id": "47a60780",
   "metadata": {},
   "source": [
    "### operations, number of run count\n",
    "* program can be analyzed by seeing:\n",
    "    * number of operations\n",
    "    * how many times it runs\n",
    "* for example:\n",
    "    * <img src=\"mysum.png\" alt=\"counts operations and subsequent runs\" width=\"400\">\n",
    "* the code format looks like the following:"
   ]
  },
  {
   "cell_type": "code",
   "execution_count": null,
   "id": "c18a265e",
   "metadata": {},
   "outputs": [],
   "source": [
    "## constant function with counting number of ops\n",
    "def c_to_f(c):\n",
    "    counter = 3\n",
    "    return (counter, c*9.0/5 + 32)\n",
    "\n",
    "## linear function with counting number of ops\n",
    "def mysum(x):\n",
    "    counter = 1\n",
    "    total = 0\n",
    "    for i in range(x+1):\n",
    "        counter += 3\n",
    "        total += i\n",
    "    return (counter, total)\n",
    "\n",
    "## quadratic function with counting number of ops\n",
    "def square(n):\n",
    "    counter = 1\n",
    "    mysum = 0\n",
    "    for i in range(n):\n",
    "        counter += 1\n",
    "        for j in range(n):\n",
    "            counter +=3 \n",
    "            mysum += 1\n",
    "    return (counter, mysum)"
   ]
  },
  {
   "cell_type": "code",
   "execution_count": 12,
   "id": "46c6c80c",
   "metadata": {},
   "outputs": [],
   "source": [
    "## helper function to show number of operations\n",
    "def count_wrapper(f, L):\n",
    "    print('Counting', f.__name__)\n",
    "    for i in L:\n",
    "        counter = f(i)[0]\n",
    "        if i == min(L):\n",
    "            multiplier = 1.0\n",
    "        else:\n",
    "            multiplier = counter/float(prev)\n",
    "        prev = counter\n",
    "        print(f\"{f.__name__}({i}): {counter} ops, {multiplier} more\")"
   ]
  },
  {
   "cell_type": "code",
   "execution_count": 13,
   "id": "112f13cf",
   "metadata": {},
   "outputs": [],
   "source": [
    "L1 = [100]\n",
    "for i in range(5):\n",
    "    L1.append(L1[-1]*10)\n",
    "\n",
    "L2_a = [128, 256, 512, 1024, 2048, 4096, 8192]\n",
    "L2_b = [1, 10, 100, 1000, 10000]"
   ]
  },
  {
   "cell_type": "code",
   "execution_count": 14,
   "id": "7a2e6f99",
   "metadata": {},
   "outputs": [
    {
     "name": "stdout",
     "output_type": "stream",
     "text": [
      "Counting c_to_f\n",
      "c_to_f(100): 3 ops, 1.0 more\n",
      "c_to_f(1000): 3 ops, 1.0 more\n",
      "c_to_f(10000): 3 ops, 1.0 more\n",
      "c_to_f(100000): 3 ops, 1.0 more\n",
      "c_to_f(1000000): 3 ops, 1.0 more\n",
      "c_to_f(10000000): 3 ops, 1.0 more\n"
     ]
    }
   ],
   "source": [
    "count_wrapper(c_to_f, L1)"
   ]
  },
  {
   "cell_type": "code",
   "execution_count": 15,
   "id": "e955957b",
   "metadata": {},
   "outputs": [
    {
     "name": "stdout",
     "output_type": "stream",
     "text": [
      "Counting mysum\n",
      "mysum(100): 304 ops, 1.0 more\n",
      "mysum(1000): 3004 ops, 9.881578947368421 more\n",
      "mysum(10000): 30004 ops, 9.988015978695072 more\n",
      "mysum(100000): 300004 ops, 9.99880015997867 more\n",
      "mysum(1000000): 3000004 ops, 9.999880001599978 more\n",
      "mysum(10000000): 30000004 ops, 9.999988000016 more\n"
     ]
    }
   ],
   "source": [
    "count_wrapper(mysum, L1)"
   ]
  },
  {
   "cell_type": "code",
   "execution_count": 16,
   "id": "4f34594a",
   "metadata": {},
   "outputs": [
    {
     "name": "stdout",
     "output_type": "stream",
     "text": [
      "Counting square\n",
      "square(128): 49281 ops, 1.0 more\n",
      "square(256): 196865 ops, 3.9947444248290416 more\n",
      "square(512): 786945 ops, 3.9973839941076372 more\n",
      "square(1024): 3146753 ops, 3.998694953268653 more\n",
      "square(2048): 12584961 ops, 3.999348217035147 more\n",
      "square(4096): 50335745 ops, 3.9996742937860517 more\n",
      "square(8192): 201334785 ops, 3.999837193231172 more\n"
     ]
    }
   ],
   "source": [
    "count_wrapper(square, L2_a)"
   ]
  },
  {
   "cell_type": "code",
   "execution_count": 17,
   "id": "262f8427",
   "metadata": {},
   "outputs": [
    {
     "name": "stdout",
     "output_type": "stream",
     "text": [
      "Counting square\n",
      "square(1): 5 ops, 1.0 more\n",
      "square(10): 311 ops, 62.2 more\n",
      "square(100): 30101 ops, 96.78778135048232 more\n",
      "square(1000): 3001001 ops, 99.69771768379788 more\n",
      "square(10000): 300010001 ops, 99.96997701766844 more\n"
     ]
    }
   ],
   "source": [
    "count_wrapper(square, L2_b)"
   ]
  }
 ],
 "metadata": {
  "kernelspec": {
   "display_name": "Python 3",
   "language": "python",
   "name": "python3"
  },
  "language_info": {
   "codemirror_mode": {
    "name": "ipython",
    "version": 3
   },
   "file_extension": ".py",
   "mimetype": "text/x-python",
   "name": "python",
   "nbconvert_exporter": "python",
   "pygments_lexer": "ipython3",
   "version": "3.13.4"
  }
 },
 "nbformat": 4,
 "nbformat_minor": 5
}
