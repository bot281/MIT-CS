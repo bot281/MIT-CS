{
 "cells": [
  {
   "cell_type": "markdown",
   "id": "0c207815",
   "metadata": {},
   "source": [
    "### lecture 23 - complexity classes examples\n",
    "* theta θ denotes asymptotic complexity\n",
    "    * asymptotic meaning a line continually approaching given curve but not meeting at any finite distance\n",
    "* input term that dominates function\n",
    "    * drop pieces without fastest growth\n",
    "    * drop additive constants\n",
    "    * drop multiplicative constants\n",
    "* only few classes of algorithms leftover\n",
    "* start with input parameters regarding function\n",
    "\n",
    "#\n",
    "* constant complexity - independent of inputs\n",
    "    * can be loops or recursive but number of iterations or calls independent of size or input\n",
    "    * built-in operations that are constant:\n",
    "        * list index: L[i]\n",
    "        * list append: L.append()\n",
    "        * dict lookup: d[key]"
   ]
  },
  {
   "cell_type": "code",
   "execution_count": null,
   "id": "59ff3942",
   "metadata": {},
   "outputs": [],
   "source": [
    "# constant example 1\n",
    "def add(x, y):\n",
    "    return x + y\n",
    "\n",
    "# constant example 2\n",
    "def convert_to_km(mi):\n",
    "    return mi * 1.609\n",
    "\n",
    "# these are all θ(1), no loops or recursives\n",
    "\n",
    "# constant example 3\n",
    "def loop(x):\n",
    "    y = 100\n",
    "    total = 0\n",
    "    for i in range(y):\n",
    "        total += x\n",
    "    return total\n",
    "# loop doesn't depend on param x, so this is also θ(1)"
   ]
  },
  {
   "cell_type": "markdown",
   "id": "e397d196",
   "metadata": {},
   "source": [
    "#\n",
    "* linear complexity\n",
    "    * simple iterative loops - function of input\n",
    "    * linear serach to see if element is present\n",
    "    * one recursive call, constant overhead for call\n",
    "    * built-in linear operations:\n",
    "        * e in L\n",
    "        * L[:len(L)//2]\n",
    "        * L1 == L2\n",
    "        * del(L[5])"
   ]
  },
  {
   "cell_type": "code",
   "execution_count": 2,
   "id": "8ab6a2c5",
   "metadata": {},
   "outputs": [],
   "source": [
    "# multiplying x by y\n",
    "def mul(x, y):\n",
    "    total = 0\n",
    "    for i in range(y):\n",
    "        total += x\n",
    "    return total"
   ]
  },
  {
   "cell_type": "markdown",
   "id": "48e67a71",
   "metadata": {},
   "source": [
    "* complexity in terms of y: θ(y) -- loops through y\n",
    "* complexity in terms of x: θ(x) -- only adds to total\n",
    "#\n",
    "* choice of input on which to measure affects the complexity of θ theta\n",
    "\n",
    "### so the big idea is to be careful what the inputs are"
   ]
  },
  {
   "cell_type": "code",
   "execution_count": 3,
   "id": "a1364d93",
   "metadata": {},
   "outputs": [],
   "source": [
    "# linear complexity\n",
    "# add char of string made of decimal digits\n",
    "def add_digits(s):\n",
    "    value = 0\n",
    "    for c in s:\n",
    "        value += int(c)\n",
    "    return value"
   ]
  },
  {
   "cell_type": "markdown",
   "id": "643e7bca",
   "metadata": {},
   "source": [
    "* loop through len(s) times, so θ(len(s))\n",
    "* everything else is constant at θ(1)\n",
    "* θ(n) where n is len(s)"
   ]
  },
  {
   "cell_type": "code",
   "execution_count": 4,
   "id": "85972f92",
   "metadata": {},
   "outputs": [],
   "source": [
    "# linear complexity\n",
    "# loop to find factorial of number >= 2\n",
    "def fact_iter(n):\n",
    "    prod = 1\n",
    "    for i in range(2, n+1):\n",
    "        prod *= i\n",
    "    return prod"
   ]
  },
  {
   "cell_type": "markdown",
   "id": "72e011f1",
   "metadata": {},
   "source": [
    "* loop goes through n-1 times, so θ(n)\n",
    "* everything else constant θ(1)\n",
    "* overral just θ(n)"
   ]
  },
  {
   "cell_type": "code",
   "execution_count": null,
   "id": "4bf9f682",
   "metadata": {},
   "outputs": [],
   "source": [
    "# linear complexity\n",
    "def fact_recur(n):\n",
    "    \"\"\"assume n >= 0\"\"\"\n",
    "    if n <= 1:  # base case\n",
    "        return 1\n",
    "    else:\n",
    "        return n * fact_recur(n - 1)"
   ]
  },
  {
   "cell_type": "markdown",
   "id": "cfb9481a",
   "metadata": {},
   "source": [
    "* computes factorial recursively\n",
    "* time shows that it's slower than iterative version because of function calls"
   ]
  },
  {
   "cell_type": "markdown",
   "id": "8218eb06",
   "metadata": {},
   "source": [
    "### polynomial complexity - usually quadratic\n",
    "* generally polynomial algos are quadratic, which means complexity grows with square size of input\n",
    "* occurs in nested loops or recursive funct calls"
   ]
  },
  {
   "cell_type": "code",
   "execution_count": 7,
   "id": "94b3ef56",
   "metadata": {},
   "outputs": [],
   "source": [
    "# quadratic complexity example 1\n",
    "def g(n):\n",
    "    \"\"\"assume n >= 0\"\"\"\n",
    "    x = 0\n",
    "    for i in range(n):  # θ(n)\n",
    "        for j in range(n):  # θ(n)\n",
    "            x += 1\n",
    "    return x\n",
    "# everything else θ(1)"
   ]
  },
  {
   "cell_type": "markdown",
   "id": "6c137868",
   "metadata": {},
   "source": [
    "* n<sup>2</sup> computed very inefficiently\n",
    "* loops are in terms of input\n",
    "    * nested loop\n",
    "    * ranges\n",
    "    * iterates n times"
   ]
  },
  {
   "cell_type": "code",
   "execution_count": 8,
   "id": "0adb5f12",
   "metadata": {},
   "outputs": [],
   "source": [
    "# quadratic complexity example 2\n",
    "def is_subset(L1, L2):\n",
    "    for el in L1:\n",
    "        matched = False\n",
    "        for e2 in L2:\n",
    "            if el == e2:\n",
    "                matched == True\n",
    "                break\n",
    "        if not matched:\n",
    "            return False\n",
    "    return True\n",
    "\n",
    "\n",
    "# is L1 a subset of L2? all elements of L1 in L2?\n",
    "\n",
    "##  yes\n",
    "L1 = [3,5,2]\n",
    "L2 = [2,3,5,9]\n",
    "\n",
    "##  no\n",
    "L1 = [3,5,2]\n",
    "L2 = [2,5,9]"
   ]
  },
  {
   "cell_type": "markdown",
   "id": "541ff9b6",
   "metadata": {},
   "source": [
    "* timestamp - 30:04"
   ]
  }
 ],
 "metadata": {
  "kernelspec": {
   "display_name": "Python 3",
   "language": "python",
   "name": "python3"
  },
  "language_info": {
   "codemirror_mode": {
    "name": "ipython",
    "version": 3
   },
   "file_extension": ".py",
   "mimetype": "text/x-python",
   "name": "python",
   "nbconvert_exporter": "python",
   "pygments_lexer": "ipython3",
   "version": "3.13.4"
  }
 },
 "nbformat": 4,
 "nbformat_minor": 5
}
