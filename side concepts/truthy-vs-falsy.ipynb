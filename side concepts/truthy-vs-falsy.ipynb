{
 "cells": [
  {
   "cell_type": "markdown",
   "id": "39d3a0bf",
   "metadata": {},
   "source": [
    "### truthy vs falsy\n",
    "* shorthand for determining whether a value is treated as True or False in a condition, without explicityl writing == True/False\n",
    "* example: HP bar\n",
    "    * if player's HP is > 0, then player is alive (truthy)\n",
    "    * if player's HP hits 0, then player is incapacitated (falsy)\n",
    "* **truthy** has values (non-empty) that evaluates to True such as:\n",
    "    * if \"some_string\":\n",
    "    * if [1, 2, 3]:\n",
    "    * if 17:\n",
    "    * if {\"key\": \"val\"}:\n",
    "* **falsy** usually indicated False by empty, zero, or null values\n",
    "    * if \"\":\n",
    "    * if 0:\n",
    "    * if []:\n",
    "    * if {}:\n",
    "    * if None:\n",
    "\n",
    "* so why bother using it?\n",
    "    * because it's clean and readable, like taking shortcuts in speedrun\n",
    "    * so instead of doing\n",
    "        * if len(some_list) > 0:\n",
    "    * can instead just do\n",
    "        * if some_list: # evaluates truthy\n",
    "    * this sort of writing makes python behave like dynamic scripting language\n",
    "    * also eaiser to plug things into 'if' statements without needing verbose conditions\n"
   ]
  },
  {
   "cell_type": "code",
   "execution_count": 2,
   "id": "aca45624",
   "metadata": {},
   "outputs": [
    {
     "name": "stdout",
     "output_type": "stream",
     "text": [
      "You are well prepared. Ready to enter dungeon.\n"
     ]
    }
   ],
   "source": [
    "inventory = [\"sword\", \"shield\", \"armor\"]\n",
    "\n",
    "if inventory:   # truthy because non-empty list\n",
    "    print(\"You are well prepared. Ready to enter dungeon.\")\n",
    "else:\n",
    "    print(\"You have nothing equipped! Not recommended to go in gearless.\")"
   ]
  },
  {
   "cell_type": "code",
   "execution_count": 3,
   "id": "32f1e7b9",
   "metadata": {},
   "outputs": [
    {
     "name": "stdout",
     "output_type": "stream",
     "text": [
      "You have nothing equipped! Not recommended to go in gearless.\n"
     ]
    }
   ],
   "source": [
    "inventory = []\n",
    "\n",
    "if inventory:   # falsy because empty list\n",
    "    print(\"You are well prepared. Ready to enter dungeon.\")\n",
    "else:\n",
    "    print(\"You have nothing equipped! Not recommended to go in gearless.\")"
   ]
  }
 ],
 "metadata": {
  "kernelspec": {
   "display_name": "Python 3",
   "language": "python",
   "name": "python3"
  },
  "language_info": {
   "codemirror_mode": {
    "name": "ipython",
    "version": 3
   },
   "file_extension": ".py",
   "mimetype": "text/x-python",
   "name": "python",
   "nbconvert_exporter": "python",
   "pygments_lexer": "ipython3",
   "version": "3.9.5"
  }
 },
 "nbformat": 4,
 "nbformat_minor": 5
}
