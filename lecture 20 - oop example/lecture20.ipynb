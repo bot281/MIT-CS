{
 "cells": [
  {
   "cell_type": "markdown",
   "id": "19d5a284",
   "metadata": {},
   "source": [
    "## lecture 20 - fitness tracker OOP\n",
    "\n",
    "### implement vs using the class\n",
    "* implement\n",
    "    * define class\n",
    "    * define data attributes (what)\n",
    "    * define methods (how)\n",
    "    * common properties\n",
    "\n",
    "* using\n",
    "    * create **instances**\n",
    "    * do operations"
   ]
  },
  {
   "cell_type": "markdown",
   "id": "73ab8b0e",
   "metadata": {},
   "source": [
    "### workout class\n",
    "* better get-calories method\n",
    "* use datatime objects\n",
    "### run workout class\n",
    "* reuse \\_\\_str\\_\\_  from parent\n",
    "* override get_calories of parent\n",
    "* add \\_\\_eq\\_\\_ method not in parent"
   ]
  },
  {
   "cell_type": "code",
   "execution_count": 4,
   "id": "edf26805",
   "metadata": {},
   "outputs": [],
   "source": [
    "class SimpleWorkout(object):\n",
    "    \"\"\"A simple class to keep track of workouts\"\"\"\n",
    "    def __init__(self, start, end, calories):\n",
    "        self.start = start\n",
    "        self.end = end\n",
    "        self.calories = calories\n",
    "        self.icon = '😓'\n",
    "        self.kind = 'Workout'\n",
    "    \n",
    "# getters & setters used outside class to access data attributes\n",
    "    # getters\n",
    "    def get_calories(self):\n",
    "        return self.calories\n",
    "    def get_start(self):\n",
    "        return self.start\n",
    "    def get_end(self):\n",
    "        return self.end\n",
    "    \n",
    "    # setters\n",
    "    def set_calories(self, calories):\n",
    "        self.calories = calories\n",
    "    def set_start(self, start):\n",
    "        self.start = start\n",
    "    def set_end(self, end):\n",
    "        self.end = end\n",
    "\n",
    "\n",
    "my_workout = SimpleWorkout('9/30/2021 1:35 PM', '9/30/2021 1:57 PM', 200)"
   ]
  },
  {
   "cell_type": "code",
   "execution_count": 5,
   "id": "f3014844",
   "metadata": {},
   "outputs": [
    {
     "name": "stdout",
     "output_type": "stream",
     "text": [
      "dict_keys(['__module__', '__doc__', '__init__', 'get_calories', 'get_start', 'get_end', 'set_calories', 'set_start', 'set_end', '__dict__', '__weakref__'])\n"
     ]
    }
   ],
   "source": [
    "print(SimpleWorkout.__dict__.keys())"
   ]
  },
  {
   "cell_type": "code",
   "execution_count": 6,
   "id": "5672e3ad",
   "metadata": {},
   "outputs": [
    {
     "name": "stdout",
     "output_type": "stream",
     "text": [
      "dict_values(['__main__', 'A simple class to keep track of workouts', <function SimpleWorkout.__init__ at 0x000001CFD886BB80>, <function SimpleWorkout.get_calories at 0x000001CFD886B790>, <function SimpleWorkout.get_start at 0x000001CFD886B9D0>, <function SimpleWorkout.get_end at 0x000001CFD886B670>, <function SimpleWorkout.set_calories at 0x000001CFD886B5E0>, <function SimpleWorkout.set_start at 0x000001CFD886B160>, <function SimpleWorkout.set_end at 0x000001CFD886B040>, <attribute '__dict__' of 'SimpleWorkout' objects>, <attribute '__weakref__' of 'SimpleWorkout' objects>])\n"
     ]
    }
   ],
   "source": [
    "print(SimpleWorkout.__dict__.values())"
   ]
  },
  {
   "cell_type": "code",
   "execution_count": 2,
   "id": "9289f7f2",
   "metadata": {},
   "outputs": [],
   "source": [
    "# changing implementation\n",
    "from dateutil import parser\n",
    "\n",
    "class Workout:\n",
    "    cal_per_hr = 200\n",
    "\n",
    "    def __init__(self, start, end, calories=None):\n",
    "        self.start = parser.parse(start) # type datetime objects, not string\n",
    "        self.end = parser.parse(end)\n",
    "        self.calories = calories\n",
    "        self.icon = '😓'\n",
    "        self.kind = 'Workout'\n",
    "\n",
    "    def get_calories(self):\n",
    "        if (self.calories is None):\n",
    "            return Workout.cal_per_hr * (self.end - self.start).total_seconds() / 3600 # datetime can have math operations on it\n",
    "        else:\n",
    "            return self.calories\n",
    "    \n",
    "    def __eq__(self, other):    # \\ seems to allow extending a really long return\n",
    "        return type(self) == type(other) and \\\n",
    "            self.start == other.start and \\\n",
    "            self.end == other.end and \\\n",
    "            self.kind == other.kind and \\\n",
    "            self.get_calories() == other.get_calories()    "
   ]
  },
  {
   "cell_type": "code",
   "execution_count": 61,
   "id": "3361f0ef",
   "metadata": {},
   "outputs": [
    {
     "name": "stdout",
     "output_type": "stream",
     "text": [
      "minutes: 0:10:00\n",
      "seconds: 600.0\n"
     ]
    }
   ],
   "source": [
    "start = '9/30/2021 1:35 PM' # also takes other formats\n",
    "end = '9/30/2021 1:45 PM'   # example: 'Sept 30 2021 1:35 PM', 'September, 30, 2021 1:45pm'\n",
    "start_date = parser.parse(start)\n",
    "end_date = parser.parse(end)\n",
    "type(start_date)\n",
    "\n",
    "print(f\"minutes: {(end_date - start_date)}\")\n",
    "print(f\"seconds: {(end_date - start_date).total_seconds()}\")"
   ]
  },
  {
   "cell_type": "code",
   "execution_count": 62,
   "id": "18077493",
   "metadata": {},
   "outputs": [
    {
     "name": "stdout",
     "output_type": "stream",
     "text": [
      "200\n"
     ]
    }
   ],
   "source": [
    "# can even directly access variables\n",
    "print(Workout.cal_per_hr)"
   ]
  },
  {
   "cell_type": "code",
   "execution_count": null,
   "id": "0f66acc0",
   "metadata": {},
   "outputs": [
    {
     "name": "stdout",
     "output_type": "stream",
     "text": [
      "250\n"
     ]
    }
   ],
   "source": [
    "# or even change it permanently - DONT DO THIS!\n",
    "# Workout.cal_per_hr = 250\n",
    "# print(Workout.cal_per_hr)"
   ]
  },
  {
   "cell_type": "markdown",
   "id": "2ebd03b9",
   "metadata": {},
   "source": [
    "### You try it\n",
    "* w_one\n",
    "    * from Jan 1 2021 at 3:30 PM until 4 PM\n",
    "    * estimate calories from workout\n",
    "    * print number of calories for w_one\n",
    "* w_two\n",
    "    * from Jan 1 2021 at 3:35 PM until 4 PM\n",
    "    * know that 300 calories were burned\n",
    "    * print number of calories for w_two"
   ]
  },
  {
   "cell_type": "code",
   "execution_count": 63,
   "id": "c8c1aa4b",
   "metadata": {},
   "outputs": [
    {
     "name": "stdout",
     "output_type": "stream",
     "text": [
      "100.0\n"
     ]
    }
   ],
   "source": [
    "start1 = 'Jan 1 2021, 3:30 PM'\n",
    "end1 = 'Jan 1 2021, 4:00 PM'\n",
    "\n",
    "w_one = Workout(start1, end1).get_calories()\n",
    "print(w_one)"
   ]
  },
  {
   "cell_type": "code",
   "execution_count": 64,
   "id": "160e8993",
   "metadata": {},
   "outputs": [
    {
     "name": "stdout",
     "output_type": "stream",
     "text": [
      "300\n"
     ]
    }
   ],
   "source": [
    "start2 = 'Jan 1 2021, 3:35 PM'\n",
    "end2 = 'Jan 1 2021, 4:00 PM'\n",
    "\n",
    "w_two = Workout(start2, end2, 300).get_calories()\n",
    "print(w_two)"
   ]
  },
  {
   "cell_type": "code",
   "execution_count": 65,
   "id": "c0d29fab",
   "metadata": {},
   "outputs": [
    {
     "name": "stdout",
     "output_type": "stream",
     "text": [
      "😓\n"
     ]
    }
   ],
   "source": [
    "print(Workout(start1, end1).icon)"
   ]
  },
  {
   "cell_type": "code",
   "execution_count": 5,
   "id": "d69b55cd",
   "metadata": {},
   "outputs": [],
   "source": [
    "# inheritance\n",
    "class RunWorkout(Workout):\n",
    "    def __init__(self, start, end, elev=0, calories=None):\n",
    "        super().__init__(start,end,calories)    # super() accesses Workout class\n",
    "        self.icon = '🏃'\n",
    "        self.kind = 'Running'\n",
    "        self.elev = elev\n",
    "\n",
    "    # new functionalities\n",
    "    def get_elev(self):\n",
    "        return self.elev\n",
    "    def set_elev(self, e):\n",
    "        self.elev = e\n",
    "\n",
    "    def __eq__(self, other):\n",
    "        return super().__eq__(other) and self.elev == other.elev    "
   ]
  },
  {
   "cell_type": "code",
   "execution_count": 6,
   "id": "0d41bb35",
   "metadata": {},
   "outputs": [],
   "source": [
    "w1 = Workout('9/30/2021 1:35 PM', '9/30/2021 2:05 PM', 500)\n",
    "w2 = Workout('9/30/2021 1:35 PM', '9/30/2021 2:05 PM')\n",
    "w3 = Workout('9/30/2021 1:35 PM', '9/30/2021 2:05 PM', 100)\n",
    "\n",
    "rw1 = RunWorkout('9/30/2021 1:35 PM', '9/30/2021 3:05 PM', 100)\n",
    "rw2 = RunWorkout('9/30/2021 1:35 PM', '9/30/2021 3:05 PM', 200)\n",
    "rw3 = RunWorkout('9/30/2021 1:35 PM', '9/30/2021 3:05 PM', 100)"
   ]
  },
  {
   "cell_type": "code",
   "execution_count": 13,
   "id": "4ad8c4ad",
   "metadata": {},
   "outputs": [
    {
     "name": "stdout",
     "output_type": "stream",
     "text": [
      "100.0\n",
      "True\n"
     ]
    }
   ],
   "source": [
    "print(w2.get_calories())\n",
    "print(w2 == w3) # 100 == 100"
   ]
  },
  {
   "cell_type": "markdown",
   "id": "dfd8093d",
   "metadata": {},
   "source": [
    "### OOP is great for modularizing but possible to overdo it\n",
    "* new OOP programmers create elaborate class hierarchies - not necessarily good\n",
    "* will decomposition make sense to other code users?\n",
    "* can be difficult to reason about control flow\n",
    "    * this init, that init, what object type, too convoluted"
   ]
  }
 ],
 "metadata": {
  "kernelspec": {
   "display_name": "Python 3",
   "language": "python",
   "name": "python3"
  },
  "language_info": {
   "codemirror_mode": {
    "name": "ipython",
    "version": 3
   },
   "file_extension": ".py",
   "mimetype": "text/x-python",
   "name": "python",
   "nbconvert_exporter": "python",
   "pygments_lexer": "ipython3",
   "version": "3.9.5"
  }
 },
 "nbformat": 4,
 "nbformat_minor": 5
}
